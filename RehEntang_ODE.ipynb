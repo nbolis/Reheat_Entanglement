{
 "cells": [
  {
   "cell_type": "code",
   "execution_count": 19,
   "metadata": {},
   "outputs": [],
   "source": [
    "import numpy as np\n",
    "from scipy.integrate import solve_ivp\n",
    "from scipy.integrate import odeint\n",
    "import matplotlib.pyplot as plt"
   ]
  },
  {
   "cell_type": "markdown",
   "metadata": {},
   "source": [
    "## Background Equations\n",
    "\n",
    "$$ \\sigma''(\\tau) - 2 \\frac{\\sigma'(\\tau)}{\\tau} + \\frac{\\sigma(\\tau)}{\\tau^2}(m_{\\sigma}^2 + g \\phi(t)^2)$$\n",
    "\n",
    "$$ \\phi'(t) = \\sqrt{2 \\frac{\\epsilon}{\\tau^2} - \\sigma'(t)^2}$$\n",
    "\n",
    "Rewriting in terms of first order equations:\n",
    "\n",
    "$$\\sigma'(t)=\\sigma_p(t)\\\\\\\\ \n",
    "\\sigma_p'(\\tau) - 2 \\frac{\\sigma_p(\\tau)}{\\tau} + \\frac{\\sigma(\\tau)}{\\tau^2}(m_{\\sigma}^2 + g \\phi(t)^2)\\\\\\\\\n",
    "\\phi'(t) = \\sqrt{2 \\frac{\\epsilon}{\\tau^2} - \\sigma_p(t)^2}$$"
   ]
  },
  {
   "cell_type": "markdown",
   "metadata": {},
   "source": [
    "#### Code Notation\n",
    "\n",
    "$$\\phi(t): y[0]\\\\\n",
    "\\sigma(t): y[1]\\\\\n",
    "\\sigma_p(t): y[2]$$"
   ]
  },
  {
   "cell_type": "code",
   "execution_count": 118,
   "metadata": {},
   "outputs": [],
   "source": [
    "H, m, g, epsilon, s_prime0, s0, phi0 = 1,0.1, 0.1, 0.0001, 0.0, 0.00001, 0.01"
   ]
  },
  {
   "cell_type": "code",
   "execution_count": 155,
   "metadata": {},
   "outputs": [],
   "source": [
    "def background_ode(t, y):\n",
    "   \n",
    "    dydt = [np.sqrt(2*(epsilon/t**2)  - y[2]**2 + 0j), y[2], 2* (y[2]/t) - y[1]*(m**2+ g * y[0]**2)/t**2] \n",
    "    return dydt"
   ]
  },
  {
   "cell_type": "code",
   "execution_count": 150,
   "metadata": {},
   "outputs": [],
   "source": [
    "tspan = np.linspace(-1000.0, -0.001, 10000)"
   ]
  },
  {
   "cell_type": "code",
   "execution_count": 151,
   "metadata": {},
   "outputs": [],
   "source": [
    "yinit = [phi0+0j, s0+0j, s_prime0+0j]"
   ]
  },
  {
   "cell_type": "code",
   "execution_count": 152,
   "metadata": {},
   "outputs": [],
   "source": [
    "sol_back = solve_ivp(lambda t, y: background_ode(t, y), [tspan[0], tspan[-1]], yinit, t_eval=tspan)"
   ]
  },
  {
   "cell_type": "code",
   "execution_count": 153,
   "metadata": {},
   "outputs": [],
   "source": [
    "phi = sol_back.y[0]\n",
    "sigma= sol_back.y[1]\n",
    "sigmap= sol_back.y[2]\n",
    "time  = sol_back.t"
   ]
  },
  {
   "cell_type": "code",
   "execution_count": 154,
   "metadata": {},
   "outputs": [
    {
     "data": {
      "image/png": "[encoded data removed]",
      "text/plain": [
       "<Figure size 432x288 with 1 Axes>"
      ]
     },
     "metadata": {
      "needs_background": "light"
     },
     "output_type": "display_data"
    }
   ],
   "source": [
    "plt.plot(time[:-1], phi[:-1].real, 'b')\n",
    "plt.plot(time[:-1], sigma[:-1].real, 'g')\n",
    "plt.plot(time[:-1], sigmap[:-1].real, 'r')\n",
    "#plt.plot(time[:-1], sigma[:-1].imag, 'c')\n",
    "#plt.plot(time[:-1], sigmap[:-1].imag, 'm')\n",
    "plt.show()"
   ]
  },
  {
   "cell_type": "code",
   "execution_count": 102,
   "metadata": {},
   "outputs": [
    {
     "data": {
      "text/plain": [
       "array([0.+0.j, 0.+0.j, 0.+0.j, ..., 0.+0.j, 0.+0.j, 0.+0.j])"
      ]
     },
     "execution_count": 102,
     "metadata": {},
     "output_type": "execute_result"
    }
   ],
   "source": [
    "sigma"
   ]
  },
  {
   "cell_type": "code",
   "execution_count": 110,
   "metadata": {},
   "outputs": [],
   "source": [
    "def check_real(var):\n",
    "    bul = var.imag !=0\n",
    "    for i,j in enumerate(bul):\n",
    "        if j ==True:\n",
    "            print(i)"
   ]
  },
  {
   "cell_type": "code",
   "execution_count": 111,
   "metadata": {},
   "outputs": [],
   "source": [
    "check_real(sigma)"
   ]
  },
  {
   "cell_type": "code",
   "execution_count": 112,
   "metadata": {},
   "outputs": [],
   "source": [
    "check_real(sigmap)"
   ]
  },
  {
   "cell_type": "code",
   "execution_count": 113,
   "metadata": {},
   "outputs": [],
   "source": [
    "check_real(phi)"
   ]
  },
  {
   "cell_type": "code",
   "execution_count": 114,
   "metadata": {},
   "outputs": [],
   "source": [
    "def D(sigmap,t):\n",
    "    return sigmap**2 -2* epsilon/t**2"
   ]
  },
  {
   "cell_type": "code",
   "execution_count": 115,
   "metadata": {},
   "outputs": [],
   "source": [
    "def Vp(sigma, phi):\n",
    "    return (m**2 + g* phi**2)* sigma"
   ]
  },
  {
   "cell_type": "code",
   "execution_count": 171,
   "metadata": {},
   "outputs": [],
   "source": [
    "def Vpd(sigma, sigmap, phi,t):\n",
    "    return sigmap*(m**2+g*phi**2) + sigma* g* 2* phi* np.sqrt(2*(epsilon/t**2)  - sigmap**2 + 0j)"
   ]
  },
  {
   "cell_type": "code",
   "execution_count": 120,
   "metadata": {},
   "outputs": [],
   "source": [
    "def f_C_coeff(sigma,sigmap, phi, t):\n",
    "    return -sigmap*(5*(epsilon/t**2) - Vp(sigma, phi) * (sigmap/(t*H**2)) \n",
    "                    -(epsilon-2) * (sigmap)**2)/D(sigmap,t)"
   ]
  },
  {
   "cell_type": "code",
   "execution_count": 122,
   "metadata": {},
   "outputs": [],
   "source": [
    "def f_Vp_term(sigma, sigmap, phi, t):\n",
    "    return Vp(sigma, phi)*(-12*epsilon * (sigmap/t**3)\n",
    "                           -(2+2*epsilon)*(sigmap**3/t))/((H*t * D(sigmap,t))**2)"
   ]
  },
  {
   "cell_type": "code",
   "execution_count": 124,
   "metadata": {},
   "outputs": [],
   "source": [
    "def f_Vp2_term(sigma,sigmap, phi, t):\n",
    "    return (2* epsilon* Vp(sigma, phi)**2)/((t**6)*(H**4)*D(sigmap, t)**2)"
   ]
  },
  {
   "cell_type": "code",
   "execution_count": 147,
   "metadata": {},
   "outputs": [],
   "source": [
    "def f_Vpd_term(sigma, sigmap, phi, t):\n",
    "    return sigmap * Vpd(sigma, sigmap, phi,t)/(D(sigmap, t)*(H*t)**2)"
   ]
  },
  {
   "cell_type": "code",
   "execution_count": 136,
   "metadata": {},
   "outputs": [],
   "source": [
    "def f_k2_term(sigmap, t,k):\n",
    "    return -(epsilon* k**2)/(2*D(sigmap,t)*t**2)"
   ]
  },
  {
   "cell_type": "code",
   "execution_count": 140,
   "metadata": {},
   "outputs": [],
   "source": [
    "def f_rest_term(sigmap,t):\n",
    "    return (65*epsilon *((sigmap**2)/t**4) -4*(epsilon-2)*(sigmap**4)/(t**2) \n",
    "            + 4* epsilon *(sigmap**2) *(2/t**4))/(2*D(sigmap,t)**2)"
   ]
  },
  {
   "cell_type": "code",
   "execution_count": 144,
   "metadata": {},
   "outputs": [],
   "source": [
    "def g_C_coeff(sigma, sigmap,phi,t):\n",
    "    return ((epsilon/t**2)*(-Vp(sigma, phi)/(t*H**2) - (2+epsilon)*sigmap) \n",
    "            + (sigmap**2)*((epsilon-2)*sigmap + Vp(sigma, phi)/(t*H**2)))/D(sigmap,t)"
   ]
  },
  {
   "cell_type": "code",
   "execution_count": 156,
   "metadata": {},
   "outputs": [],
   "source": [
    "def g_Vp_term(sigma, sigmap,phi,t):\n",
    "    return -sigmap*Vp(sigma, phi)*((10* epsilon/t**2) \n",
    "                                   + (3*epsilon-2)*sigmap**2)/((H**2)*(t**3)*D(sigmap,t)**2)"
   ]
  },
  {
   "cell_type": "code",
   "execution_count": 159,
   "metadata": {},
   "outputs": [],
   "source": [
    "def g_Vp2_term(sigma,sigmap, phi, t):\n",
    "    return ((5*epsilon/t**2) -2 * sigmap**2)*(Vp(sigma,phi)**2)/(2*((H*t)**4)*D(sigmap,t)**2)"
   ]
  },
  {
   "cell_type": "code",
   "execution_count": 162,
   "metadata": {},
   "outputs": [],
   "source": [
    "def g_Vpp_term(sigmap, phi, t):\n",
    "    return - epsilon *(m**2+ g* phi**2)/((H**2) *(t**4)* D(sigmap,t)*2)"
   ]
  },
  {
   "cell_type": "code",
   "execution_count": 172,
   "metadata": {},
   "outputs": [],
   "source": [
    "def g_Vpd_term(sigma, sigmap, phi, t):\n",
    "    return sigmap*Vpd(sigma, sigmap, phi,t)/(D(sigmap,t)*(H * t)**2)"
   ]
  },
  {
   "cell_type": "code",
   "execution_count": 175,
   "metadata": {},
   "outputs": [],
   "source": [
    "def g_k2_term(sigmap, t, k):\n",
    "    return - (epsilon* k**2)/(2*D(sigmap,t)*t**2)"
   ]
  },
  {
   "cell_type": "code",
   "execution_count": 178,
   "metadata": {},
   "outputs": [],
   "source": [
    "def g_rest_term(sigmap,t):\n",
    "    return (epsilon* 44* ((sigmap**2)/t**4) - (4-3*epsilon)* ((sigmap**4)/t**2)\n",
    "            + 4*epsilon* D(sigmap,t)* (2/t**4))/(2*D(sigmap,t)**2)"
   ]
  },
  {
   "cell_type": "code",
   "execution_count": 179,
   "metadata": {},
   "outputs": [
    {
     "data": {
      "text/plain": [
       "-0.4999343733593442"
      ]
     },
     "execution_count": 179,
     "metadata": {},
     "output_type": "execute_result"
    }
   ],
   "source": [
    "g_rest_term(2,2)"
   ]
  },
  {
   "cell_type": "markdown",
   "metadata": {},
   "source": [
    "### Perturbation Equations\n",
    "Using: \n",
    "$$a =- \\frac{1}{\\tau H}, \\quad M_p=1, \\quad D = \\sigma'^2-\\frac{2 \\epsilon}{\\tau^2}$$\n",
    "\n",
    "$A_k$ equation:\n",
    "$$f_k'' - 2 \\sigma' \\left(\\frac{3\\sigma'}{D \\tau} +\\frac{C_k \\tau}{f_k g_k}\\right) f_k' + \\frac{\\epsilon}{2} \\frac{C_k^2}{f_k g_k^2} - \\frac{\\sigma'}{D}\\left(\\frac{5 \\epsilon}{\\tau^2} -(\\epsilon -2)\\sigma'^2 +\\frac{\\partial_{\\sigma}V \\sigma'}{\\tau H^2}\\right)\\frac{C_k}{g_k}\\\\\n",
    " +\\left[- \\frac{\\partial_{\\sigma}V \\sigma'}{H^2 \\tau^3 D^2} \\left(\\frac{4(3-2 \\epsilon) \\epsilon }{\\tau^2} +(3+ 2 \\epsilon) \\sigma'^2\\right) +  \\frac{2 \\epsilon (\\partial_{\\sigma}V)^2}{H^4 \\tau^6 D^2} + \\frac{\\sigma'}{H^2 \\tau^2 D} \\partial_{\\tau}\\partial_{\\sigma}V -\\frac{\\epsilon}{2 \\tau^2 D} k^2 \\right]f_k\\\\\n",
    " +\\left[\\frac{\\sigma'^2}{2 \\tau^2 D^2}\\left(\\frac{(65-28 \\epsilon+4 \\epsilon^2)}{\\tau^2}-4(\\epsilon -2) \\sigma'^2\\right) +\\frac{4 \\epsilon}{D \\tau^4}\\right]f_k=0$$\n",
    " \n",
    "$B_k$ equation:\n",
    "$$g_k'' - 2 \\sigma' \\left(\\frac{\\partial_{\\sigma}V}{D H^2 \\tau^2} -\\frac{\\epsilon \\sigma'}{D \\tau} +\\frac{C_k \\tau}{f_k g_k}\\right) g_k' + \\frac{\\epsilon}{2} \\frac{C_k^2}{g_k f_k^2}- \\left(\\sigma'\\left((\\epsilon-2) \\sigma'^2 -(\\epsilon+2)\\frac{\\epsilon}{\\tau^2} \\right) +\\frac{\\partial_{\\sigma}V}{H^2} \\left(\\frac{\\epsilon}{\\tau^3} - \\frac{\\sigma'^2}{\\tau}\\right)\\right)\\frac{C_k}{D f_k}\\\\\n",
    " +\\left[\\frac{\\partial_{\\sigma}V \\sigma'}{H^2 \\tau^3 D^2} \\left(\\frac{(10-7 \\epsilon) \\epsilon }{\\tau^2} +(3\\epsilon -2) \\sigma'^2\\right) +  \\left(\\frac{5 \\epsilon}{\\tau^2} - 2 \\sigma'^2\\right) \\frac{(\\partial_{\\sigma}V)^2}{2 H^4 \\tau^4 D^2}- \n",
    " \\frac{\\partial_{\\sigma}^2 V \\epsilon}{2 H^2 \\tau^4 D} + \\frac{\\sigma'}{H^2 \\tau^2 D} \\partial_{\\tau}\\partial_{\\sigma}V -\\frac{\\epsilon}{2 \\tau^2 D} k^2 \\right]g_k\\\\\n",
    " +\\left[\\frac{\\sigma'^2}{2 \\tau^2 D^2}\\left(\\frac{(44-18 \\epsilon+ 3 \\epsilon^2)}{\\tau^2}-(4- 3 \\epsilon +\\epsilon^2) \\sigma'^2\\right) +\\frac{4 \\epsilon}{D \\tau^4}\\right]g_k=0$$\n",
    " \n",
    " $C_k$ equation:\n",
    " $$ C_k' = - \\frac{C_k}{2 D}\\left((3+\\epsilon)\\frac{\\sigma'^2}{\\tau} - \\frac{\\sigma' \\partial_{\\sigma} V}{H^2 \\tau^2}\\right) - \\frac{f_k' g_k}{\\epsilon D} \\left(\\frac{\\partial_{\\sigma} V}{\\tau H^2} \\left(\\frac{\\epsilon}{\\tau^2} -\\sigma'^2\\right) +\\sigma'\\left((\\epsilon -2) \\sigma'^2 -(2+\\epsilon) \\frac{\\epsilon}{\\tau^2}\\right)  \\right) + \\frac{g_k' f_k \\sigma'}{\\epsilon D} \\left(\\frac{\\partial_{\\sigma} V \\sigma'}{\\tau H^2} + \\frac{5 \\epsilon}{\\tau^2} - (\\epsilon -2) \\sigma'^2\\right)\\\\\n",
    " + \\frac{\\sigma' \\tau}{\\epsilon D} f_k' g_k' \n",
    " + \\left[\\frac{\\sigma'}{2 \\tau D} k^2 + \\frac{\\partial_{\\sigma} V}{\\epsilon D H^2 \\tau^2} \\left(\\frac{\\epsilon^2}{\\tau^4} + 2\\epsilon (1+\\epsilon) \\frac{\\sigma'^2}{\\tau^2} -2(\\epsilon-2) \\sigma'^4\\right) +  \\frac{(\\partial_{\\sigma} V)^2 \\sigma'}{\\epsilon \\tau^3 H^4 D^2}\\left(\\sigma'^2-\\frac{\\epsilon}{\\tau^2}\\right)\\right]f_kg_k \\\\\n",
    " +\\left[ \\frac{\\sigma'}{2 \\epsilon \\tau D^2} \\left(4\\epsilon^2(5+\\epsilon) \\frac{1}{\\tau^4} + (28-7 \\epsilon -2\\epsilon^2) \\epsilon \\frac{\\sigma'^2}{\\tau^2} + 2(\\epsilon^2 - 4 \\epsilon + 4) \\sigma'^4\\right)\\right] f_k g_k \n",
    " $$"
   ]
  },
  {
   "cell_type": "markdown",
   "metadata": {},
   "source": [
    "ODE notation:\n",
    "\n",
    "$$\\phi: y[0]\\\\\n",
    "\\sigma: y[1]\\\\\n",
    "\\sigma_p: y[2]\\\\\n",
    "f_k : y[3]\\\\\n",
    "f'_k: y[4]\\\\\n",
    "g_k: y[5]\\\\\n",
    "g'_k: y[6]\\\\\n",
    "C_k: y[7]\n",
    "$$"
   ]
  },
  {
   "cell_type": "code",
   "execution_count": null,
   "metadata": {},
   "outputs": [],
   "source": [
    "def ode(t,y):\n",
    "    dydt = [np.sqrt(2*(epsilon/t**2)  - y[2]**2 + 0j), y[2], 2* (y[2]/t) - y[1]*(m**2+ g * y[0]**2)/t**2,\n",
    "            y[4], -(y[4]*2*y[2]*((-y[7] * t/ (y[3]*y[5])) + 3* y[2]/(t*D(y[2],t)))+ epsilon*y[7]**2 / (2* y[3]*y[5]**2)\n",
    "            + y[7]*f_C_coeff(y[1],y[2],y[0])/y[5] + y[3]*(f_Vp_term(sigma, sigmap, phi, t)\n",
    "            +  f_Vp2_term(sigma,sigmap, phi, t) +  f_Vpd_term(sigma, sigmap, phi, phip, t)\n",
    "            +f_k2_term(sigmap, t,k)+f_rest_term(sigmap,t) )), y[6],-()  ,    C ]\n",
    "    return dydt"
   ]
  }
 ],
 "metadata": {
  "kernelspec": {
   "display_name": "Python 3",
   "language": "python",
   "name": "python3"
  },
  "language_info": {
   "codemirror_mode": {
    "name": "ipython",
    "version": 3
   },
   "file_extension": ".py",
   "mimetype": "text/x-python",
   "name": "python",
   "nbconvert_exporter": "python",
   "pygments_lexer": "ipython3",
   "version": "3.7.6"
  }
 },
 "nbformat": 4,
 "nbformat_minor": 4
}
