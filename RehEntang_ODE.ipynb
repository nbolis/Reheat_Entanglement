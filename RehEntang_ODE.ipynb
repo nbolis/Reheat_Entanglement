{
 "cells": [
  {
   "cell_type": "code",
   "execution_count": 1,
   "metadata": {},
   "outputs": [],
   "source": [
    "import numpy as np\n",
    "from scipy.integrate import solve_ivp\n",
    "from scipy.special import hankel1\n",
    "import matplotlib.pyplot as plt"
   ]
  },
  {
   "cell_type": "markdown",
   "metadata": {},
   "source": [
    "## Background Equations\n",
    "Without backreaction \n",
    "\n",
    "$$\\sigma''(\\tau) - 2 \\frac{\\sigma'(\\tau)}{\\tau} + \\frac{\\sigma(\\tau)}{\\tau^2}(m_{\\sigma}^2 + g \\phi(t)^2)$$\n",
    "\n",
    "$$\\phi'(t) = \\sqrt{2 \\frac{\\epsilon}{\\tau^2} - \\sigma'(t)^2}$$"
   ]
  },
  {
   "cell_type": "markdown",
   "metadata": {},
   "source": [
    "Rewriting in terms of first order equations:\n",
    "\n",
    "$$\\sigma'(t)=\\sigma_p(t)$$\n",
    "\n",
    "$$\\sigma_p'(\\tau) - 2 \\frac{\\sigma_p(\\tau)}{\\tau} + \\frac{\\sigma(\\tau)}{\\tau^2}(m_{\\sigma}^2 + g \\phi(t)^2)$$\n",
    "\n",
    "$$\\phi'(t) = \\sqrt{2 \\frac{\\epsilon}{\\tau^2} - \\sigma_p(t)^2}$$"
   ]
  },
  {
   "cell_type": "markdown",
   "metadata": {},
   "source": [
    "#### Code Notation\n",
    "\n",
    "$$\\phi(t): y[0]$$\n",
    "$$\\sigma(t): y[1]$$\n",
    "$$\\sigma_p(t): y[2]$$"
   ]
  },
  {
   "cell_type": "code",
   "execution_count": 11,
   "metadata": {},
   "outputs": [],
   "source": [
    "H, m, g, ns, s_prime0, s0, phi0 = 1,0.1, 0.1, 0.96, 0.0, 0.001, 0.01\n",
    "epsilon = (1-ns)*0/5"
   ]
  },
  {
   "cell_type": "code",
   "execution_count": 12,
   "metadata": {},
   "outputs": [],
   "source": [
    "def background_ode(t, y):\n",
    "    dydt = [np.sqrt(2*(epsilon/t**2)  - y[2]**2 + 0j), y[2], 2* (y[2]/t) - y[1]*(m**2+ g * y[0]**2)/t**2] \n",
    "    return dydt"
   ]
  },
  {
   "cell_type": "code",
   "execution_count": 13,
   "metadata": {},
   "outputs": [],
   "source": [
    "tspan = np.linspace(-1000.0, -0.00001, 10000)"
   ]
  },
  {
   "cell_type": "code",
   "execution_count": 14,
   "metadata": {},
   "outputs": [],
   "source": [
    "yinit = [phi0+0j, s0+0j, s_prime0+0j]"
   ]
  },
  {
   "cell_type": "code",
   "execution_count": 15,
   "metadata": {},
   "outputs": [],
   "source": [
    "sol_back = solve_ivp(lambda t, y: background_ode(t, y), [tspan[0], tspan[-1]], yinit, t_eval=tspan)"
   ]
  },
  {
   "cell_type": "code",
   "execution_count": 16,
   "metadata": {},
   "outputs": [],
   "source": [
    "phi = sol_back.y[0]\n",
    "sigma= sol_back.y[1]\n",
    "sigmap= sol_back.y[2]\n",
    "time  = sol_back.t"
   ]
  },
  {
   "cell_type": "code",
   "execution_count": 17,
   "metadata": {},
   "outputs": [
    {
     "data": {
      "image/png": "[encoded data removed]",
      "text/plain": [
       "<Figure size 432x288 with 1 Axes>"
      ]
     },
     "metadata": {
      "needs_background": "light"
     },
     "output_type": "display_data"
    }
   ],
   "source": [
    "plt.plot(time[:-1], phi[:-1].real, 'b')\n",
    "plt.show()"
   ]
  },
  {
   "cell_type": "code",
   "execution_count": 18,
   "metadata": {},
   "outputs": [
    {
     "data": {
      "image/png": "[encoded data removed]",
      "text/plain": [
       "<Figure size 432x288 with 1 Axes>"
      ]
     },
     "metadata": {
      "needs_background": "light"
     },
     "output_type": "display_data"
    }
   ],
   "source": [
    "plt.plot(time[:-1], sigma[:-1].real, 'g')\n",
    "plt.plot(time[:-1], sigmap[:-1].real, 'r')\n",
    "plt.show()"
   ]
  },
  {
   "cell_type": "code",
   "execution_count": 19,
   "metadata": {},
   "outputs": [
    {
     "data": {
      "text/plain": [
       "array([ 0.00000000e+00, -1.00109925e-12, -2.00219881e-12, ...,\n",
       "       -1.86820101e-05, -3.78922543e-05, -4.45198064e-03])"
      ]
     },
     "execution_count": 19,
     "metadata": {},
     "output_type": "execute_result"
    }
   ],
   "source": [
    "sigmap.real"
   ]
  },
  {
   "cell_type": "markdown",
   "metadata": {},
   "source": [
    "Check that evolution of background is real"
   ]
  },
  {
   "cell_type": "code",
   "execution_count": 20,
   "metadata": {},
   "outputs": [],
   "source": [
    "def check_real(var):\n",
    "    bul = var.imag !=0\n",
    "    for i,j in enumerate(bul):\n",
    "        if j ==True:\n",
    "            print(i)"
   ]
  },
  {
   "cell_type": "code",
   "execution_count": 21,
   "metadata": {},
   "outputs": [],
   "source": [
    "check_real(sigma)"
   ]
  },
  {
   "cell_type": "code",
   "execution_count": 22,
   "metadata": {},
   "outputs": [],
   "source": [
    "check_real(sigmap)"
   ]
  },
  {
   "cell_type": "code",
   "execution_count": 23,
   "metadata": {},
   "outputs": [],
   "source": [
    "check_real(phi)"
   ]
  },
  {
   "cell_type": "markdown",
   "metadata": {},
   "source": [
    "### Functions for perturbation equations "
   ]
  },
  {
   "cell_type": "code",
   "execution_count": 114,
   "metadata": {},
   "outputs": [],
   "source": [
    "def D(sigmap,t):\n",
    "    return sigmap**2 -2* epsilon/t**2"
   ]
  },
  {
   "cell_type": "code",
   "execution_count": 115,
   "metadata": {},
   "outputs": [],
   "source": [
    "def Vp(sigma, phi):\n",
    "    return (m**2 + g* phi**2)* sigma"
   ]
  },
  {
   "cell_type": "code",
   "execution_count": 171,
   "metadata": {},
   "outputs": [],
   "source": [
    "def Vpd(sigma, sigmap, phi,t):\n",
    "    return sigmap*(m**2+g*phi**2) + sigma* g* 2* phi* np.sqrt(2*(epsilon/t**2)  - sigmap**2 + 0j)"
   ]
  },
  {
   "cell_type": "code",
   "execution_count": 120,
   "metadata": {},
   "outputs": [],
   "source": [
    "def f_C_coeff(sigma,sigmap, phi, t):\n",
    "    return -sigmap*(5*(epsilon/t**2) - Vp(sigma, phi) * (sigmap/(t*H**2)) \n",
    "                    -(epsilon-2) * (sigmap)**2)/D(sigmap,t)"
   ]
  },
  {
   "cell_type": "code",
   "execution_count": 122,
   "metadata": {},
   "outputs": [],
   "source": [
    "def f_Vp_term(sigma, sigmap, phi, t):\n",
    "    return Vp(sigma, phi)*(-12*epsilon * (sigmap/t**3)\n",
    "                           -(2+2*epsilon)*(sigmap**3/t))/((H*t * D(sigmap,t))**2)"
   ]
  },
  {
   "cell_type": "code",
   "execution_count": 124,
   "metadata": {},
   "outputs": [],
   "source": [
    "def f_Vp2_term(sigma,sigmap, phi, t):\n",
    "    return (2* epsilon* Vp(sigma, phi)**2)/((t**6)*(H**4)*D(sigmap, t)**2)"
   ]
  },
  {
   "cell_type": "code",
   "execution_count": 147,
   "metadata": {},
   "outputs": [],
   "source": [
    "def f_Vpd_term(sigma, sigmap, phi, t):\n",
    "    return sigmap * Vpd(sigma, sigmap, phi,t)/(D(sigmap, t)*(H*t)**2)"
   ]
  },
  {
   "cell_type": "code",
   "execution_count": 136,
   "metadata": {},
   "outputs": [],
   "source": [
    "def f_k2_term(sigmap, t,k):\n",
    "    return -(epsilon* k**2)/(2*D(sigmap,t)*t**2)"
   ]
  },
  {
   "cell_type": "code",
   "execution_count": 140,
   "metadata": {},
   "outputs": [],
   "source": [
    "def f_rest_term(sigmap,t):\n",
    "    return (65*epsilon *((sigmap**2)/t**4) -4*(epsilon-2)*(sigmap**4)/(t**2) \n",
    "            + 4* epsilon *(sigmap**2) *(2/t**4))/(2*D(sigmap,t)**2)"
   ]
  },
  {
   "cell_type": "code",
   "execution_count": 144,
   "metadata": {},
   "outputs": [],
   "source": [
    "def g_C_coeff(sigma, sigmap,phi,t):\n",
    "    return ((epsilon/t**2)*(-Vp(sigma, phi)/(t*H**2) - (2+epsilon)*sigmap) \n",
    "            + (sigmap**2)*((epsilon-2)*sigmap + Vp(sigma, phi)/(t*H**2)))/D(sigmap,t)"
   ]
  },
  {
   "cell_type": "code",
   "execution_count": 156,
   "metadata": {},
   "outputs": [],
   "source": [
    "def g_Vp_term(sigma, sigmap,phi,t):\n",
    "    return -sigmap*Vp(sigma, phi)*((10* epsilon/t**2) \n",
    "                                   + (3*epsilon-2)*sigmap**2)/((H**2)*(t**3)*D(sigmap,t)**2)"
   ]
  },
  {
   "cell_type": "code",
   "execution_count": 159,
   "metadata": {},
   "outputs": [],
   "source": [
    "def g_Vp2_term(sigma,sigmap, phi, t):\n",
    "    return ((5*epsilon/t**2) -2 * sigmap**2)*(Vp(sigma,phi)**2)/(2*((H*t)**4)*D(sigmap,t)**2)"
   ]
  },
  {
   "cell_type": "code",
   "execution_count": 162,
   "metadata": {},
   "outputs": [],
   "source": [
    "def g_Vpp_term(sigmap, phi, t):\n",
    "    return - epsilon *(m**2+ g* phi**2)/((H**2) *(t**4)* D(sigmap,t)*2)"
   ]
  },
  {
   "cell_type": "code",
   "execution_count": 172,
   "metadata": {},
   "outputs": [],
   "source": [
    "def g_Vpd_term(sigma, sigmap, phi, t):\n",
    "    return sigmap*Vpd(sigma, sigmap, phi,t)/(D(sigmap,t)*(H * t)**2)"
   ]
  },
  {
   "cell_type": "code",
   "execution_count": 175,
   "metadata": {},
   "outputs": [],
   "source": [
    "def g_k2_term(sigmap, t, k):\n",
    "    return - (epsilon* k**2)/(2*D(sigmap,t)*t**2)"
   ]
  },
  {
   "cell_type": "code",
   "execution_count": 178,
   "metadata": {},
   "outputs": [],
   "source": [
    "def g_rest_term(sigmap,t):\n",
    "    return (epsilon* 44* ((sigmap**2)/t**4) - (4-3*epsilon)* ((sigmap**4)/t**2)\n",
    "            + 4*epsilon* D(sigmap,t)* (2/t**4))/(2*D(sigmap,t)**2)"
   ]
  },
  {
   "cell_type": "markdown",
   "metadata": {},
   "source": [
    "### Perturbation Equations\n",
    "Using: \n",
    "$$a =- \\frac{1}{\\tau H}, \\quad M_p=1, \\quad D = \\sigma'^2-\\frac{2 \\epsilon}{\\tau^2}$$\n",
    "\n",
    "\n",
    "$A_k$ equation:\n",
    "$$f_k'' = 2 \\sigma' \\left(\\frac{3\\sigma'}{D \\tau} +\\frac{C_k \\tau}{f_k g_k}\\right) f_k' - \\frac{\\epsilon}{2} \\frac{C_k^2}{f_k g_k^2} + \\frac{\\sigma'}{D}\\left(\\frac{5 \\epsilon}{\\tau^2} -(\\epsilon -2)\\sigma'^2 +\\frac{\\partial_{\\sigma}V \\sigma'}{\\tau H^2}\\right)\\frac{C_k}{g_k}$$\n",
    "\n",
    "$$ -\\left[- \\frac{\\partial_{\\sigma}V \\sigma'}{H^2 \\tau^3 D^2} \\left(\\frac{4(3-2 \\epsilon) \\epsilon }{\\tau^2} +(3+ 2 \\epsilon) \\sigma'^2\\right) +  \\frac{2 \\epsilon (\\partial_{\\sigma}V)^2}{H^4 \\tau^6 D^2} + \\frac{\\sigma'}{H^2 \\tau^2 D} \\partial_{\\tau}\\partial_{\\sigma}V -\\frac{\\epsilon}{2 \\tau^2 D} k^2 +\\frac{\\sigma'^2}{2 \\tau^2 D^2}\\left(\\frac{(65-28 \\epsilon+4 \\epsilon^2)}{\\tau^2}-4(\\epsilon -2) \\sigma'^2\\right) +\\frac{4 \\epsilon}{D \\tau^4}\\right]f_k$$"
   ]
  },
  {
   "cell_type": "markdown",
   "metadata": {},
   "source": [
    "$B_k$ equation:\n",
    "\n",
    "$$g_k'' = 2 \\sigma' \\left(\\frac{\\partial_{\\sigma}V}{D H^2 \\tau^2} -\\frac{\\epsilon \\sigma'}{D \\tau} +\\frac{C_k \\tau}{f_k g_k}\\right) g_k' - \\frac{\\epsilon}{2} \\frac{C_k^2}{g_k f_k^2}+ \\left(\\sigma'\\left((\\epsilon-2) \\sigma'^2 -(\\epsilon+2)\\frac{\\epsilon}{\\tau^2} \\right) +\\frac{\\partial_{\\sigma}V}{H^2} \\left(\\frac{\\epsilon}{\\tau^3} - \\frac{\\sigma'^2}{\\tau}\\right)\\right)\\frac{C_k}{D f_k}$$\n",
    "\n",
    "$$-\\left[\\frac{\\partial_{\\sigma}V \\sigma'}{H^2 \\tau^3 D^2} \\left(\\frac{(10-7 \\epsilon) \\epsilon }{\\tau^2} +(3\\epsilon -2) \\sigma'^2\\right) +  \\left(\\frac{5 \\epsilon}{\\tau^2} - 2 \\sigma'^2\\right) \\frac{(\\partial_{\\sigma}V)^2}{2 H^4 \\tau^4 D^2}- \n",
    " \\frac{\\partial_{\\sigma}^2 V \\epsilon}{2 H^2 \\tau^4 D} + \\frac{\\sigma'}{H^2 \\tau^2 D} \\partial_{\\tau}\\partial_{\\sigma}V -\\frac{\\epsilon}{2 \\tau^2 D} k^2 \\right]g_k$$\n",
    " \n",
    "$$-\\left[\\frac{\\sigma'^2}{2 \\tau^2 D^2}\\left(\\frac{(44-18 \\epsilon+ 3 \\epsilon^2)}{\\tau^2}-(4- 3 \\epsilon +\\epsilon^2) \\sigma'^2\\right) +\\frac{4 \\epsilon}{D \\tau^4}\\right]g_k$$"
   ]
  },
  {
   "cell_type": "markdown",
   "metadata": {},
   "source": [
    "$C_k$ equation:\n",
    "\n",
    "$$C_k' = -\\frac{C_k}{2 D}\\left((3+\\epsilon)\\frac{\\sigma'^2}{\\tau} - \\frac{\\sigma' \\partial_{\\sigma} V}{H^2 \\tau^2}\\right) - \\frac{f_k' g_k}{\\epsilon D} \\left(\\frac{\\partial_{\\sigma} V}{\\tau H^2} \\left(\\frac{\\epsilon}{\\tau^2} -\\sigma'^2\\right) +\\sigma'\\left((\\epsilon -2) \\sigma'^2 -(2+\\epsilon) \\frac{\\epsilon}{\\tau^2}\\right)  \\right) + \\frac{g_k' f_k \\sigma'}{\\epsilon D} \\left(\\frac{\\partial_{\\sigma} V \\sigma'}{\\tau H^2} + \\frac{5 \\epsilon}{\\tau^2} - (\\epsilon -2) \\sigma'^2\\right)\n",
    " + \\frac{\\sigma' \\tau}{\\epsilon D} f_k' g_k'$$\n",
    " \n",
    "$$+ \\left[\\frac{\\sigma'}{2 \\tau D} k^2 + \\frac{\\partial_{\\sigma} V}{\\epsilon D H^2 \\tau^2} \\left(\\frac{\\epsilon^2}{\\tau^4} + 2\\epsilon (1+\\epsilon) \\frac{\\sigma'^2}{\\tau^2} -2(\\epsilon-2) \\sigma'^4\\right) +  \\frac{(\\partial_{\\sigma} V)^2 \\sigma'}{\\epsilon \\tau^3 H^4 D^2}\\left(\\sigma'^2-\\frac{\\epsilon}{\\tau^2}\\right)\\right]f_k g_k$$\n",
    "\n",
    "$$+\\left[ \\frac{\\sigma'}{2 \\epsilon \\tau D^2} \\left(4\\epsilon^2(5+\\epsilon) \\frac{1}{\\tau^4} + (28-7 \\epsilon -2\\epsilon^2) \\epsilon \\frac{\\sigma'^2}{\\tau^2} + 2(\\epsilon^2 - 4 \\epsilon + 4) \\sigma'^4\\right)\\right]f_k g_k$$"
   ]
  },
  {
   "cell_type": "markdown",
   "metadata": {},
   "source": [
    "Note on $C_k$ in these equations:\n",
    "    Compared to the orginal $C_k$ the $C_k$ in these equations is:\n",
    "    $$C_k^{\\text{original}} = \\frac{C_k}{f_k g_k} \\frac{D}{i H^2 M_p}$$"
   ]
  },
  {
   "cell_type": "markdown",
   "metadata": {},
   "source": [
    "ODE notation:\n",
    "\n",
    "$$\\phi: y[0]$$\n",
    "$$\\sigma: y[1]$$\n",
    "$$\\sigma_p: y[2]$$\n",
    "$$f_k : y[3]$$\n",
    "$$f'_k: y[4]$$\n",
    "$$g_k: y[5]$$\n",
    "$$g'_k: y[6]$$\n",
    "$$C_k: y[7]$$"
   ]
  },
  {
   "cell_type": "markdown",
   "metadata": {},
   "source": [
    "### Full ODE equations"
   ]
  },
  {
   "cell_type": "code",
   "execution_count": null,
   "metadata": {},
   "outputs": [],
   "source": [
    "def ode(t,y):\n",
    "    dydt = [np.sqrt(2*(epsilon/t**2)  - y[2]**2 + 0j), y[2], 2* (y[2]/t) - y[1]*(m**2+ g * y[0]**2)/t**2,\n",
    "            y[4], -(y[4]*2*y[2]*((-y[7] * t/ (y[3]*y[5])) + 3* y[2]/(t*D(y[2],t)))+ epsilon*y[7]**2 / (2* y[3]*y[5]**2)\n",
    "            + y[7]*f_C_coeff(y[1],y[2],y[0])/y[5] + y[3]*(f_Vp_term(sigma, sigmap, phi, t)\n",
    "            +  f_Vp2_term(sigma,sigmap, phi, t) +  f_Vpd_term(sigma, sigmap, phi, phip, t)\n",
    "            +f_k2_term(sigmap, t,k)+f_rest_term(sigmap,t) )), y[6],-()  ,    C ]\n",
    "    return dydt"
   ]
  },
  {
   "cell_type": "markdown",
   "metadata": {},
   "source": [
    "# Simple Model"
   ]
  },
  {
   "cell_type": "markdown",
   "metadata": {},
   "source": [
    "Fluctuation equations\n",
    "\n",
    "$$\n",
    "f''_k + \\left(  k^2 +a^2 \\partial^2_{\\phi} V(\\phi, \\sigma)  -\\frac{a''}{a} \\right) f_k = \\frac{C_k^2}{f_k g_k^2} \n",
    "$$\n",
    "\n",
    "$$\n",
    "g''_k + \\left(  k^2 +a^2 \\partial^2_{\\sigma} V(\\phi, \\sigma)  -\\frac{a''}{a} \\right) g_k = \\frac{C_k^2}{g_k f_k^2} \n",
    "$$\n",
    "\n",
    "$$\n",
    "C'_k = i a^2 \\partial_{\\phi} \\partial_{\\sigma} V(\\phi,\\sigma)  f_k g_k\n",
    "$$\n",
    "\n",
    "with potential:\n",
    "\n",
    "$$V(\\phi,\\sigma) = V(\\phi) + \\frac{1}{2} m^2 \\sigma^2 + \\frac{1}{2} g \\phi^2 \\sigma^2$$\n",
    "\n",
    "and \n",
    "\n",
    "$$\\text{R inflation:}\\;\\; V(\\phi)= \\Lambda^4\\left(1- e^{-\\sqrt{2/3}\\phi/M_{pl}} \\right)^2 \\quad \\text{or} \\quad \\text{quartic hilltop:} \\;\\;V(\\phi)=\\Lambda^4 \\left(1-\\frac{\\phi^4}{\\mu^4}\\right)$$"
   ]
  },
  {
   "cell_type": "markdown",
   "metadata": {},
   "source": [
    "Background Equations\n",
    "\n",
    "$$\n",
    "\\phi'' + 2 H a \\phi' + a^2\\left(\\partial_{\\phi} V(\\phi,\\sigma) + \\frac{1}{2} \\frac{\\partial^3 V(\\phi,\\sigma)}{\\partial \\phi^3} \\langle \\varphi^2 \\rangle  + \\frac{1}{2} \\frac{\\partial^3 V(\\phi,\\sigma)}{\\partial \\phi \\partial^2 \\sigma} \\langle \\chi^2 \\rangle +\\frac{\\partial^3 V(\\phi,\\sigma)}{\\partial \\sigma \\partial^2 \\phi} \\langle\\phi \\chi\\rangle  \\right) =0\n",
    "$$\n",
    "\n",
    "$$\n",
    "\\sigma'' + 2 H a \\sigma' + a^2\\left(\\partial_{\\sigma} V(\\phi,\\sigma) + \\frac{1}{2} \\frac{\\partial^3 V(\\phi,\\sigma)}{\\partial \\sigma^3} \\langle \\chi^2 \\rangle  + \\frac{1}{2} \\frac{\\partial^3 V(\\phi,\\sigma)}{\\partial^2 \\phi \\partial \\sigma} \\langle \\varphi^2 \\rangle +\\frac{\\partial^3 V(\\phi,\\sigma)}{\\partial \\sigma^2 \\partial \\phi} \\langle\\phi \\chi\\rangle  \\right) =0\n",
    "$$"
   ]
  },
  {
   "cell_type": "markdown",
   "metadata": {},
   "source": [
    "Parameters:\n",
    "According to Plank paper https://arxiv.org/pdf/1807.06211.pdf, the $\\mu$ paramiter range in the quartic hilltop potential is $-2<\\log_{10}(\\mu/M_{pl})<2$. Here we take $M_{pl}=1$ so $10^{-2}< \\mu < 10^2$\n",
    "\n",
    "R inflation:\n",
    "$$\\partial_{\\phi} V =2 \\sqrt{\\frac{2}{3}} e^{-\\sqrt{\\frac{2}{3}}\\phi} \\left( 1- e^{-\\sqrt{\\frac{2}{3}}\\phi}\\right)  + g \\sigma^2 \\phi$$\n",
    "\n",
    "$$\\partial_{\\sigma} V = m^2 \\sigma  + g \\sigma \\phi^2$$\n",
    "\n",
    "$$\\partial_{\\phi}\\partial_{\\sigma} V = 2 g \\sigma \\phi$$\n",
    "\n",
    "$$\\partial^2_{\\phi} V =\\frac{4}{3}  \\left(2 e^{-2 \\sqrt{\\frac{2}{3}}\\phi}- e^{-\\sqrt{\\frac{2}{3}}\\phi}\\right)  + g \\sigma^2$$\n",
    "\n",
    "$$\\partial^2_{\\sigma} V = m^2  + g \\phi^2$$\n",
    "\n",
    "$$\\partial^3_{\\phi} V =\\frac{4}{3}\\sqrt{\\frac{2}{3}} e^{-2 \\sqrt{\\frac{2}{3}}\\phi}\\left(e^{\\sqrt{\\frac{2}{3}}\\phi}-4\\right)$$\n",
    "\n",
    "$$\\partial_{\\phi} \\partial^2_{\\sigma} V = 2 g \\phi$$ \n",
    "\n",
    "$$\\partial^2_{\\phi} \\partial_{\\sigma} V =2  g \\sigma$$\n",
    "\n",
    "Quartic Hilltop:\n",
    "\n",
    "$$\\partial_{\\phi} V = - 4 \\frac{\\Lambda^4}{\\mu^4} \\phi^3 + g \\sigma^2 \\phi$$\n",
    "\n",
    "$$\\partial_{\\sigma} V = m^2 \\sigma  + g \\sigma \\phi^2$$\n",
    "\n",
    "$$\\partial_{\\phi}\\partial_{\\sigma} V = 2 g \\sigma \\phi$$\n",
    "\n",
    "$$\\partial^2_{\\phi} V = - 12 \\frac{\\Lambda^4}{\\mu^4} \\phi^2 + g \\sigma^2$$\n",
    "\n",
    "$$\\partial^2_{\\sigma} V = m^2  + g \\phi^2$$\n",
    "\n",
    "$$\\partial^3_{\\phi} V = - 24 \\frac{\\Lambda^4}{\\mu^4} \\phi$$\n",
    "\n",
    "$$\\partial_{\\phi} \\partial^2_{\\sigma} V =2 g \\phi$$ \n",
    "\n",
    "$$\\partial^2_{\\phi} \\partial_{\\sigma} V =2 g \\sigma$$\n"
   ]
  },
  {
   "cell_type": "markdown",
   "metadata": {},
   "source": [
    "#### Hilltop Version\n",
    "\n",
    "Notation: 'Dp' stands for $\\partial_{\\phi}$, 'Ds' stands for $\\partial_{\\sigma}$, 'Dsp' for $\\partial_{\\phi}\\partial_{\\sigma}$ and so on"
   ]
  },
  {
   "cell_type": "code",
   "execution_count": 39,
   "metadata": {},
   "outputs": [],
   "source": [
    "def V_hill_Dp(phi, sigma, Lamm, g):\n",
    "    return -4 * Lamm * phi**3 + g * phi * sigma**2 "
   ]
  },
  {
   "cell_type": "code",
   "execution_count": 40,
   "metadata": {},
   "outputs": [],
   "source": [
    "def V_Ds(phi, sigma, m, g):\n",
    "    return sigma*(m**2 + g* phi**2)"
   ]
  },
  {
   "cell_type": "code",
   "execution_count": 41,
   "metadata": {},
   "outputs": [],
   "source": [
    "def V_Dsp(phi, sigma, g):\n",
    "    return 2* g * sigma * phi"
   ]
  },
  {
   "cell_type": "code",
   "execution_count": 42,
   "metadata": {},
   "outputs": [],
   "source": [
    "def V_hill_Dpp(phi, sigma, Lamm,g):\n",
    "    return -12* Lamm * phi**2  + g* sigma**2"
   ]
  },
  {
   "cell_type": "code",
   "execution_count": 43,
   "metadata": {},
   "outputs": [],
   "source": [
    "def V_Dss(phi, sigma,m,g):\n",
    "    return m**2 + g* phi**2"
   ]
  },
  {
   "cell_type": "code",
   "execution_count": 44,
   "metadata": {},
   "outputs": [],
   "source": [
    "def V_hill_Dppp(phi,Lamm):\n",
    "    return -24 * Lamm * phi"
   ]
  },
  {
   "cell_type": "code",
   "execution_count": 45,
   "metadata": {},
   "outputs": [],
   "source": [
    "def V_Dpss(phi, sigma,g):\n",
    "    return 2*g* phi"
   ]
  },
  {
   "cell_type": "code",
   "execution_count": 46,
   "metadata": {},
   "outputs": [],
   "source": [
    "def V_Dpps(phi, sigma,g):\n",
    "    return 2*g* sigma"
   ]
  },
  {
   "cell_type": "markdown",
   "metadata": {},
   "source": [
    "Code notation:\n",
    "$$\\phi : y[0]\\\\\n",
    "\\phi_p: y[1]\\\\\n",
    "\\sigma: y[2]\\\\\n",
    "\\sigma_p: y[3]\\\\\n",
    "f: y[4]\\\\\n",
    "f_p: y[5]\\\\\n",
    "g: y[6]\\\\\n",
    "g_p: y[7]\\\\\n",
    "C: y[8]\\\\\n",
    "$$"
   ]
  },
  {
   "cell_type": "markdown",
   "metadata": {},
   "source": [
    "Setting the list of k's for which to solve the equations"
   ]
  },
  {
   "cell_type": "code",
   "execution_count": 28,
   "metadata": {},
   "outputs": [],
   "source": [
    "# From external_Pk module in Class\n",
    "\n",
    "k_min  = 1.e-6\n",
    "k_max  = 10.\n",
    "k_per_decade_primordial = 200.\n",
    "\n",
    "\n",
    "\n",
    "# Filling the array of k's\n",
    "ks = [float(k_min)]\n",
    "while ks[-1] <= float(k_max) :\n",
    "    ks.append(ks[-1]*10.**(1./float(k_per_decade_primordial)))"
   ]
  },
  {
   "cell_type": "code",
   "execution_count": 29,
   "metadata": {},
   "outputs": [
    {
     "data": {
      "text/plain": [
       "3.1622776601683966e-06"
      ]
     },
     "execution_count": 29,
     "metadata": {},
     "output_type": "execute_result"
    }
   ],
   "source": [
    "ks[100]"
   ]
  },
  {
   "cell_type": "markdown",
   "metadata": {},
   "source": [
    "Minimal inflation: initial time set as the first CMB mode to exit horizon "
   ]
  },
  {
   "cell_type": "code",
   "execution_count": 30,
   "metadata": {},
   "outputs": [
    {
     "data": {
      "text/plain": [
       "-1000000.0"
      ]
     },
     "execution_count": 30,
     "metadata": {},
     "output_type": "execute_result"
    }
   ],
   "source": [
    "tau0 = -1/k_min\n",
    "tau0"
   ]
  },
  {
   "cell_type": "markdown",
   "metadata": {},
   "source": [
    "Differential equations "
   ]
  },
  {
   "cell_type": "code",
   "execution_count": 47,
   "metadata": {},
   "outputs": [],
   "source": [
    "def simp_ODE(t,y):\n",
    "    dydt = [y[1], 2* (y[1]/t) - V_hill_Dp(y[0], y[2],Lamm,g)/(t)**2, y[3], 2* (y[3]/t) - V_Ds(y[0], y[2], m, g)/(t)**2, y[5],\n",
    "            -(k**2 + (V_hill_Dpp(y[0], y[2], Lamm, g)/(t)**2) - (2/t**2))*y[4]+ (y[8]**2)/(y[4]*y[6]**2), y[7],\n",
    "            -(k**2 + (V_Dss(y[0], y[2], m , g)/(t)**2) - (2/t**2))*y[6]+ (y[8]**2)/(y[6]*y[4]**2), 1j*V_Dsp(y[0], y[2],g)*y[4]*y[6]/(t)**2 ]\n",
    "    return dydt"
   ]
  },
  {
   "cell_type": "markdown",
   "metadata": {},
   "source": [
    "Solver function with initial conditions"
   ]
  },
  {
   "cell_type": "code",
   "execution_count": 48,
   "metadata": {},
   "outputs": [],
   "source": [
    "def ode_solver(k, t0, nu_s, g, phi0, phip0, s0, s_prime0, c0):\n",
    "    # parameters\n",
    "    H, Lamm = 1, 1\n",
    "    m = np.sqrt((9/4) - nu_s**2) # m here is mu = mass/H\n",
    "    # initial conditions for mode functions \n",
    "    f0 = np.sqrt(-t0*np.pi)*0.5*hankel1(1.5,- k* t0)\n",
    "    fp0= -0.5*k *(hankel1(0.5, -k * t0)-hankel1(2.5, -k * t0))\n",
    "    g0= np.sqrt(-t0*np.pi)*0.5*hankel1(nu_s,- k* t0)\n",
    "    gp0= -0.5*k *(hankel1(nu_s-1, -k * t0)-hankel1(nu_s+1, -k * t0))\n",
    "    # initial condition list\n",
    "    yinit = [phi0, phip0, s0, s_prime0, f0, fp0, g0, gp0, c0]\n",
    "    tspan = np.linspace(t0, -0.00001, 100000)\n",
    "    # solver\n",
    "    sol_simp= solve_ivp(lambda t, y: simp_ODE(t, y), [tspan[0], tspan[-1]], yinit, t_eval=tspan)\n",
    "    return sol_simp"
   ]
  },
  {
   "cell_type": "code",
   "execution_count": 59,
   "metadata": {},
   "outputs": [],
   "source": [
    "ode_simp = ode_solver(ks[100],tau0, 1.5 ,0.1 ,0.7,0.1,0.1,0,0)"
   ]
  },
  {
   "cell_type": "markdown",
   "metadata": {},
   "source": [
    "Solve for different k modes."
   ]
  },
  {
   "cell_type": "code",
   "execution_count": 92,
   "metadata": {},
   "outputs": [],
   "source": [
    "def k_solve(k_list, n_k_min, n_k_max, t0, nu_s, g, phi0, phip0, s0, s_prime0, c0):\n",
    "    k_sol = []\n",
    "    k_listrange = k_list[n_k_min:n_k_max]\n",
    "    for i, k in enumerate(k_listrange):\n",
    "        ode_simp = ode_solver(k,t0, nu_s, g, phi0, phip0, s0, s_prime0, c0)\n",
    "        k_sol.append(ode_simp.y[:,-1])  # picks out value at end of inflation (last calcualted time)\n",
    "        print(i, end=\"\\r\")\n",
    "    return k_sol, k_listrange"
   ]
  },
  {
   "cell_type": "code",
   "execution_count": 93,
   "metadata": {},
   "outputs": [
    {
     "name": "stdout",
     "output_type": "stream",
     "text": [
      "19\r"
     ]
    }
   ],
   "source": [
    "k_sol1 = k_solve(ks, 100, 120, tau0, 1.5 ,0.1 ,0.7,0.1,0.1,0,0)"
   ]
  },
  {
   "cell_type": "code",
   "execution_count": 120,
   "metadata": {},
   "outputs": [
    {
     "data": {
      "text/plain": [
       "(20, 9)"
      ]
     },
     "execution_count": 120,
     "metadata": {},
     "output_type": "execute_result"
    }
   ],
   "source": [
    "modes = np.asarray(k_sol1[0])\n",
    "krange = np.asarray(k_sol1[1])\n",
    "modes.shape"
   ]
  },
  {
   "cell_type": "markdown",
   "metadata": {},
   "source": [
    "k solutions"
   ]
  },
  {
   "cell_type": "code",
   "execution_count": 110,
   "metadata": {},
   "outputs": [],
   "source": [
    "phik = modes[:,0]\n",
    "phipk = modes[:,1]\n",
    "sigmak= modes[:,2]\n",
    "sigmapk= modes[:,3]\n",
    "fk = modes[:,4]\n",
    "fpk = modes[:,5]\n",
    "gk = modes[:,6]\n",
    "gpk = modes[:,7]\n",
    "Ck = modes[:,8]"
   ]
  },
  {
   "cell_type": "markdown",
   "metadata": {},
   "source": [
    "time solutions "
   ]
  },
  {
   "cell_type": "code",
   "execution_count": 60,
   "metadata": {},
   "outputs": [],
   "source": [
    "phiS = ode_simp.y[0]\n",
    "phipS = ode_simp.y[1]\n",
    "sigmaS= ode_simp.y[2]\n",
    "sigmapS= ode_simp.y[3]\n",
    "fS = ode_simp.y[4]\n",
    "fpS = ode_simp.y[5]\n",
    "gS = ode_simp.y[6]\n",
    "gpS = ode_simp.y[7]\n",
    "CS = ode_simp.y[8]\n",
    "timeS  = ode_simp.t"
   ]
  },
  {
   "cell_type": "markdown",
   "metadata": {},
   "source": [
    "#### Plots over time"
   ]
  },
  {
   "cell_type": "code",
   "execution_count": 61,
   "metadata": {},
   "outputs": [
    {
     "data": {
      "image/png": "[encoded data removed]",
      "text/plain": [
       "<Figure size 432x288 with 1 Axes>"
      ]
     },
     "metadata": {
      "needs_background": "light"
     },
     "output_type": "display_data"
    }
   ],
   "source": [
    "plt.plot(timeS[:-1], sigmaS[:-1].real, 'g',label='$\\sigma$')\n",
    "plt.plot(timeS[:-1], sigmapS[:-1].real, 'r',label='$\\sigma^{\\prime}$')\n",
    "plt.legend()\n",
    "plt.show()"
   ]
  },
  {
   "cell_type": "code",
   "execution_count": 52,
   "metadata": {},
   "outputs": [
    {
     "data": {
      "image/png": "[encoded data removed]",
      "text/plain": [
       "<Figure size 432x288 with 1 Axes>"
      ]
     },
     "metadata": {
      "needs_background": "light"
     },
     "output_type": "display_data"
    }
   ],
   "source": [
    "plt.plot(timeS[:-100], phiS[:-100].real, 'g',label='$\\phi$')\n",
    "plt.plot(timeS[:-100], phipS[:-100].real, 'r', label='$\\phi^{\\prime}$')\n",
    "plt.legend()\n",
    "plt.show()"
   ]
  },
  {
   "cell_type": "code",
   "execution_count": 54,
   "metadata": {},
   "outputs": [
    {
     "data": {
      "image/png": "[encoded data removed]",
      "text/plain": [
       "<Figure size 432x288 with 1 Axes>"
      ]
     },
     "metadata": {
      "needs_background": "light"
     },
     "output_type": "display_data"
    }
   ],
   "source": [
    "plt.plot(timeS[-2000:-100], fS[-2000:-100].real, 'b',label='$f_k$ real')\n",
    "plt.plot(timeS[-2000:-100], gS[-2000:-100].real, 'r',label='$g_k$ real')\n",
    "plt.plot(timeS[-2000:-100], fS[-2000:-100].imag, 'c',label='$f_k$ imag')\n",
    "plt.plot(timeS[-2000:-100], gS[-2000:-100].imag, 'm',label='$g_k$ imag')\n",
    "plt.legend()\n",
    "plt.show()"
   ]
  },
  {
   "cell_type": "code",
   "execution_count": 55,
   "metadata": {},
   "outputs": [
    {
     "data": {
      "text/plain": [
       "[<matplotlib.lines.Line2D at 0x17c37f727c8>]"
      ]
     },
     "execution_count": 55,
     "metadata": {},
     "output_type": "execute_result"
    },
    {
     "data": {
      "image/png": "[encoded data removed]",
      "text/plain": [
       "<Figure size 432x288 with 1 Axes>"
      ]
     },
     "metadata": {
      "needs_background": "light"
     },
     "output_type": "display_data"
    }
   ],
   "source": [
    "plt.plot(timeS[-300:-100], fS[-300:-100].real**2+fS[-300:-100].imag**2, 'b',label='$f_k$ real')"
   ]
  },
  {
   "cell_type": "code",
   "execution_count": 57,
   "metadata": {},
   "outputs": [
    {
     "data": {
      "image/png": "[encoded data removed]",
      "text/plain": [
       "<Figure size 432x288 with 1 Axes>"
      ]
     },
     "metadata": {
      "needs_background": "light"
     },
     "output_type": "display_data"
    }
   ],
   "source": [
    "plt.plot(timeS[0:100:], CS[0:100:].real, 'b', label='$C_k$ real')\n",
    "plt.plot(timeS[0:100:], CS[0:100:].imag, 'c', label='$C_k$ imag')\n",
    "plt.legend()\n",
    "plt.show()"
   ]
  },
  {
   "cell_type": "markdown",
   "metadata": {},
   "source": [
    "#### Plot over k"
   ]
  },
  {
   "cell_type": "code",
   "execution_count": 114,
   "metadata": {},
   "outputs": [
    {
     "data": {
      "image/png": "[encoded data removed]",
      "text/plain": [
       "<Figure size 432x288 with 1 Axes>"
      ]
     },
     "metadata": {
      "needs_background": "light"
     },
     "output_type": "display_data"
    }
   ],
   "source": [
    "plt.plot(krange, sigmak.real, 'g',label='$\\sigma$')\n",
    "plt.plot(krange, sigmapk.real, 'r',label='$\\sigma^{\\prime}$')\n",
    "plt.legend()\n",
    "plt.show()"
   ]
  },
  {
   "cell_type": "code",
   "execution_count": 116,
   "metadata": {},
   "outputs": [
    {
     "data": {
      "image/png": "[encoded data removed]",
      "text/plain": [
       "<Figure size 432x288 with 1 Axes>"
      ]
     },
     "metadata": {
      "needs_background": "light"
     },
     "output_type": "display_data"
    }
   ],
   "source": [
    "plt.plot(krange, fk.real, 'b',label='$f_k$ real')\n",
    "plt.plot(krange, gk.real, 'r',label='$g_k$ real')\n",
    "plt.plot(krange, fk.imag, 'c',label='$f_k$ imag')\n",
    "plt.plot(krange, gk.imag, 'm',label='$g_k$ imag')\n",
    "plt.legend()\n",
    "plt.show()"
   ]
  },
  {
   "cell_type": "code",
   "execution_count": 119,
   "metadata": {},
   "outputs": [
    {
     "data": {
      "image/png": "[encoded data removed]",
      "text/plain": [
       "<Figure size 432x288 with 1 Axes>"
      ]
     },
     "metadata": {
      "needs_background": "light"
     },
     "output_type": "display_data"
    }
   ],
   "source": [
    "plt.plot(krange, fk.real**2 +  fk.imag**2 , 'b',label='$|f_k|^2$ ')\n",
    "plt.plot(krange, gk.real**2 + gk.imag**2 , 'r',label='$|g_k|^2$ ')\n",
    "plt.legend()\n",
    "plt.show()"
   ]
  },
  {
   "cell_type": "code",
   "execution_count": 118,
   "metadata": {},
   "outputs": [
    {
     "data": {
      "image/png": "[encoded data removed]",
      "text/plain": [
       "<Figure size 432x288 with 1 Axes>"
      ]
     },
     "metadata": {
      "needs_background": "light"
     },
     "output_type": "display_data"
    }
   ],
   "source": [
    "plt.plot(krange, Ck.real, 'b', label='$C_k$ real')\n",
    "plt.plot(krange, Ck.imag, 'c', label='$C_k$ imag')\n",
    "plt.legend()\n",
    "plt.show()"
   ]
  },
  {
   "cell_type": "code",
   "execution_count": null,
   "metadata": {},
   "outputs": [],
   "source": []
  }
 ],
 "metadata": {
  "kernelspec": {
   "display_name": "Python 3",
   "language": "python",
   "name": "python3"
  },
  "language_info": {
   "codemirror_mode": {
    "name": "ipython",
    "version": 3
   },
   "file_extension": ".py",
   "mimetype": "text/x-python",
   "name": "python",
   "nbconvert_exporter": "python",
   "pygments_lexer": "ipython3",
   "version": "3.7.6"
  }
 },
 "nbformat": 4,
 "nbformat_minor": 4
}
